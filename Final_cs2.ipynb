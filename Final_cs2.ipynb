{
  "nbformat": 4,
  "nbformat_minor": 0,
  "metadata": {
    "kernelspec": {
      "display_name": "Python 3",
      "language": "python",
      "name": "python3"
    },
    "language_info": {
      "codemirror_mode": {
        "name": "ipython",
        "version": 3
      },
      "file_extension": ".py",
      "mimetype": "text/x-python",
      "name": "python",
      "nbconvert_exporter": "python",
      "pygments_lexer": "ipython3",
      "version": "3.7.3"
    },
    "colab": {
      "name": " Final_cs2.ipynb",
      "provenance": [],
      "collapsed_sections": []
    },
    "accelerator": "GPU"
  },
  "cells": [
    {
      "cell_type": "code",
      "metadata": {
        "id": "PVS0XcqnsR82",
        "colab_type": "code",
        "outputId": "bd1b27b0-e847-4106-9d52-e8d250134052",
        "colab": {
          "base_uri": "https://localhost:8080/",
          "height": 34
        }
      },
      "source": [
        "from google.colab import drive\n",
        "drive.mount('/content/drive')"
      ],
      "execution_count": 69,
      "outputs": [
        {
          "output_type": "stream",
          "text": [
            "Drive already mounted at /content/drive; to attempt to forcibly remount, call drive.mount(\"/content/drive\", force_remount=True).\n"
          ],
          "name": "stdout"
        }
      ]
    },
    {
      "cell_type": "code",
      "metadata": {
        "id": "Z0ZPp87h1310",
        "colab_type": "code",
        "outputId": "990f1d07-b459-4b72-ab16-91733a20dce9",
        "colab": {
          "base_uri": "https://localhost:8080/",
          "height": 34
        }
      },
      "source": [
        "import numpy as np\n",
        "import pandas as pd\n",
        "import re\n",
        "from keras.preprocessing import sequence\n",
        "import pickle"
      ],
      "execution_count": 1,
      "outputs": [
        {
          "output_type": "stream",
          "text": [
            "Using TensorFlow backend.\n"
          ],
          "name": "stderr"
        }
      ]
    },
    {
      "cell_type": "code",
      "metadata": {
        "id": "_8o_Pr3feA-D",
        "colab_type": "code",
        "colab": {
          "base_uri": "https://localhost:8080/",
          "height": 34
        },
        "outputId": "844385c0-a950-4996-8b38-70a169189492"
      },
      "source": [
        "cd /content/drive/My Drive/Case_study_2"
      ],
      "execution_count": 2,
      "outputs": [
        {
          "output_type": "stream",
          "text": [
            "/content/drive/My Drive/Case_study_2\n"
          ],
          "name": "stdout"
        }
      ]
    },
    {
      "cell_type": "code",
      "metadata": {
        "id": "vkyFViBdd2x2",
        "colab_type": "code",
        "colab": {}
      },
      "source": [
        "train_df = pd.read_csv('data.tsv',delimiter='\\t',names = ['Q_id','Question','Answer','Target','Respose_number'])"
      ],
      "execution_count": 0,
      "outputs": []
    },
    {
      "cell_type": "code",
      "metadata": {
        "id": "bqXvMlt8132F",
        "colab_type": "code",
        "outputId": "f86453bf-9874-492d-d505-b5c3fad843f1",
        "colab": {
          "base_uri": "https://localhost:8080/",
          "height": 34
        }
      },
      "source": [
        "cd /content/drive/My Drive/Case_study_2/For_running_final"
      ],
      "execution_count": 4,
      "outputs": [
        {
          "output_type": "stream",
          "text": [
            "/content/drive/My Drive/Case_study_2/For_running_final\n"
          ],
          "name": "stdout"
        }
      ]
    },
    {
      "cell_type": "code",
      "metadata": {
        "id": "GY3qhjsu132k",
        "colab_type": "code",
        "colab": {}
      },
      "source": [
        "#loaing Data\n",
        "#sample csv data have 3000 data points from orginal data set\n",
        "#train_df = pd.read_csv('sample_data.csv')"
      ],
      "execution_count": 0,
      "outputs": []
    },
    {
      "cell_type": "code",
      "metadata": {
        "id": "FOujxpmO132v",
        "colab_type": "code",
        "outputId": "4a3dbf9d-9551-4508-fd07-2536e36ad1f6",
        "colab": {
          "base_uri": "https://localhost:8080/",
          "height": 204
        }
      },
      "source": [
        "train_df.head()"
      ],
      "execution_count": 5,
      "outputs": [
        {
          "output_type": "execute_result",
          "data": {
            "text/html": [
              "<div>\n",
              "<style scoped>\n",
              "    .dataframe tbody tr th:only-of-type {\n",
              "        vertical-align: middle;\n",
              "    }\n",
              "\n",
              "    .dataframe tbody tr th {\n",
              "        vertical-align: top;\n",
              "    }\n",
              "\n",
              "    .dataframe thead th {\n",
              "        text-align: right;\n",
              "    }\n",
              "</style>\n",
              "<table border=\"1\" class=\"dataframe\">\n",
              "  <thead>\n",
              "    <tr style=\"text-align: right;\">\n",
              "      <th></th>\n",
              "      <th>Q_id</th>\n",
              "      <th>Question</th>\n",
              "      <th>Answer</th>\n",
              "      <th>Target</th>\n",
              "      <th>Respose_number</th>\n",
              "    </tr>\n",
              "  </thead>\n",
              "  <tbody>\n",
              "    <tr>\n",
              "      <th>0</th>\n",
              "      <td>0</td>\n",
              "      <td>. what is a corporation?</td>\n",
              "      <td>A company is incorporated in a specific nation...</td>\n",
              "      <td>0</td>\n",
              "      <td>0</td>\n",
              "    </tr>\n",
              "    <tr>\n",
              "      <th>1</th>\n",
              "      <td>0</td>\n",
              "      <td>. what is a corporation?</td>\n",
              "      <td>Today, there is a growing community of more th...</td>\n",
              "      <td>0</td>\n",
              "      <td>1</td>\n",
              "    </tr>\n",
              "    <tr>\n",
              "      <th>2</th>\n",
              "      <td>0</td>\n",
              "      <td>. what is a corporation?</td>\n",
              "      <td>Corporation definition, an association of indi...</td>\n",
              "      <td>0</td>\n",
              "      <td>2</td>\n",
              "    </tr>\n",
              "    <tr>\n",
              "      <th>3</th>\n",
              "      <td>0</td>\n",
              "      <td>. what is a corporation?</td>\n",
              "      <td>Examples of corporation in a Sentence. 1  He w...</td>\n",
              "      <td>0</td>\n",
              "      <td>3</td>\n",
              "    </tr>\n",
              "    <tr>\n",
              "      <th>4</th>\n",
              "      <td>0</td>\n",
              "      <td>. what is a corporation?</td>\n",
              "      <td>1: a government-owned corporation (as a utilit...</td>\n",
              "      <td>0</td>\n",
              "      <td>4</td>\n",
              "    </tr>\n",
              "  </tbody>\n",
              "</table>\n",
              "</div>"
            ],
            "text/plain": [
              "   Q_id                  Question  ... Target  Respose_number\n",
              "0     0  . what is a corporation?  ...      0               0\n",
              "1     0  . what is a corporation?  ...      0               1\n",
              "2     0  . what is a corporation?  ...      0               2\n",
              "3     0  . what is a corporation?  ...      0               3\n",
              "4     0  . what is a corporation?  ...      0               4\n",
              "\n",
              "[5 rows x 5 columns]"
            ]
          },
          "metadata": {
            "tags": []
          },
          "execution_count": 5
        }
      ]
    },
    {
      "cell_type": "markdown",
      "metadata": {
        "id": "HNweo4ZHvKL8",
        "colab_type": "text"
      },
      "source": [
        "## Function to make predictions made on Raw Data"
      ]
    },
    {
      "cell_type": "code",
      "metadata": {
        "id": "bANoQPwC1329",
        "colab_type": "code",
        "colab": {}
      },
      "source": [
        "def final_fun_1(X):\n",
        "    data = X.copy()\n",
        "    preprocessed_Questions = []\n",
        "    for sentance in (data['Question'].values):\n",
        "        sent = re.sub('[^A-Za-z0-9]+', ' ', sentance)\n",
        "        sent = ' '.join(e.lower() for e in sent.split())\n",
        "        preprocessed_Questions.append(sent)\n",
        "    \n",
        "    preprocessed_Answers = []\n",
        "    for sentance in (data['Answer'].values):\n",
        "        sent = re.sub('[^A-Za-z0-9]+', ' ', sentance)\n",
        "        sent = ' '.join(e.lower() for e in sent.split())\n",
        "        preprocessed_Answers.append(sent)\n",
        "        \n",
        "    data['Question'] = preprocessed_Questions\n",
        "    data['Answer'] = preprocessed_Answers\n",
        "    \n",
        "    \n",
        "    Question_keywords = np.load(r'Questin_Answer_10000_keywords/Question_keywords.npy',allow_pickle = True)\n",
        "    Answer_keywords = np.load(r'Questin_Answer_10000_keywords/Answer_keywords.npy',allow_pickle = True)\n",
        "    \n",
        "    que_which_has_ly_keywords = []\n",
        "    for sentance in data['Question']:\n",
        "        sent = ' '.join(e for e in sentance.split() if e in Question_keywords)\n",
        "        que_which_has_ly_keywords.append(sent)\n",
        "    \n",
        "     \n",
        "    ans_which_has_ly_keywords = []\n",
        "    for sentance in data['Answer']:\n",
        "        sent = ' '.join(e for e in sentance.split() if e in Answer_keywords)\n",
        "        ans_which_has_ly_keywords.append(sent)\n",
        "        \n",
        "    data['Question'] = que_which_has_ly_keywords\n",
        "    data['Answer'] = ans_which_has_ly_keywords\n",
        "        \n",
        "        \n",
        "    #Setting numerical value to each word in questions\n",
        "    ecoded_ques = []\n",
        "    for train_ques in data['Question']:\n",
        "        ecoded_ques.append(list(map(lambda x: list(Question_keywords).index(x)+1,train_ques.split(\" \"))))\n",
        "    \n",
        "    ecoded_ans = []\n",
        "    for train_ans in data['Answer']:\n",
        "        ecoded_ans.append(list(map(lambda x: list(Answer_keywords).index(x)+1,train_ans.split(\" \"))))\n",
        "    \n",
        "    data['Question_vector'] = ecoded_ques\n",
        "    data['Answer_vector'] = ecoded_ans\n",
        "    \n",
        "    \n",
        "    #truncate and/or pad input sequences\n",
        "    Max_Question_length = 24\n",
        "    ques_vect_1 = sequence.pad_sequences(list(data.Question_vector), maxlen=Max_Question_length)\n",
        "    ques_vect = [np.hstack((x,10001)) for x in ques_vect_1]\n",
        "        \n",
        "    # truncate and/or pad input sequences\n",
        "    Max_Answer_length = 163\n",
        "    ans_vect = sequence.pad_sequences(data.Answer_vector, maxlen=Max_Answer_length)\n",
        "    \n",
        "    \n",
        "    #load config & weight of best model\n",
        "    with open('Final_model_weight/Best_model/config_9.p', 'rb') as fp:\n",
        "        config = pickle.load(fp)\n",
        "\n",
        "    with open('Final_model_weight/Best_model//Best_weights_9.p', 'rb') as fp:\n",
        "        weights = pickle.load(fp)\n",
        "\n",
        "    #loading weights to model\n",
        "    import tensorflow as tf\n",
        "    model = tf.keras.Model.from_config(config)\n",
        "    model.set_weights(weights)\n",
        "    \n",
        "    ques_vect_ds = list(tf.data.Dataset.from_tensor_slices((ques_vect)).batch(1024).as_numpy_iterator())\n",
        "    ans_vect_ds = list(tf.data.Dataset.from_tensor_slices((ans_vect)).batch(1024).as_numpy_iterator())\n",
        "    \n",
        "\n",
        "    @tf.function\n",
        "    def predict(input_vec):\n",
        "        '''Taks in a batch of vector ,pass it into model and returns the predicted value'''\n",
        "        predictions = model(input_vec, training=False)\n",
        "        return predictions\n",
        "\n",
        "    #stack the output of each batch\n",
        "    def predicted_y(ques_vect,ans_vect):\n",
        "        '''Takes in the a two vector(Question,answe vecror) and returns the predicted result'''\n",
        "        ls = []\n",
        "        for batch in range(len(ques_vect)):\n",
        "            test_ques_vec = ques_vect[batch]\n",
        "            test_ans_vec = ans_vect[batch]\n",
        "            ls.append(predict([test_ques_vec,test_ans_vec]))\n",
        "\n",
        "        pred_y = ls[0]\n",
        "        for i in range(1,len(ls)):\n",
        "            pred_y = np.vstack((pred_y,ls[i]))\n",
        "        return pred_y\n",
        "    \n",
        "    predicted_y = predicted_y(ques_vect_ds,ans_vect_ds)\n",
        "    \n",
        "    for_output = np.zeros_like(predicted_y,dtype = np.int32)\n",
        "    for i in range(0,predicted_y.shape[0],10):\n",
        "        maxi = np.argmax(predicted_y[i:i+10])\n",
        "        for_output[i+maxi] = 1\n",
        "        \n",
        "\n",
        "    return np.array(for_output[:,0]),np.array(predicted_y[:,0])"
      ],
      "execution_count": 0,
      "outputs": []
    },
    {
      "cell_type": "code",
      "metadata": {
        "id": "KuPsNRFl133I",
        "colab_type": "code",
        "outputId": "81cfb52e-91b1-4e4e-e374-b07550144fba",
        "colab": {
          "base_uri": "https://localhost:8080/",
          "height": 85
        }
      },
      "source": [
        "binary_output,probablity_output = final_fun_1(train_df.iloc[:2000,:])\n",
        "print(\"Binary Value output : \\n\", binary_output)\n",
        "print(\"Probablity Value output : \\n\", probablity_output)"
      ],
      "execution_count": 8,
      "outputs": [
        {
          "output_type": "stream",
          "text": [
            "Binary Value output : \n",
            " [0 0 0 ... 0 0 0]\n",
            "Probablity Value output : \n",
            " [0.13544637 0.00307176 0.39006913 ... 0.00245118 0.01382267 0.00612232]\n"
          ],
          "name": "stdout"
        }
      ]
    },
    {
      "cell_type": "markdown",
      "metadata": {
        "id": "QkBcZ5Tgv3eZ",
        "colab_type": "text"
      },
      "source": [
        "## Function  which returns final_metric computed on X ( Raw Data) and Y (target variable)"
      ]
    },
    {
      "cell_type": "code",
      "metadata": {
        "id": "l_OElRyIMSpi",
        "colab_type": "code",
        "colab": {}
      },
      "source": [
        "def final_fun_2(X):\n",
        "    data = X.copy()\n",
        "    preprocessed_Questions = []\n",
        "    for sentance in (data['Question'].values):\n",
        "        sent = re.sub('[^A-Za-z0-9]+', ' ', sentance)\n",
        "        sent = ' '.join(e.lower() for e in sent.split())\n",
        "        preprocessed_Questions.append(sent)\n",
        "    \n",
        "    preprocessed_Answers = []\n",
        "    for sentance in (data['Answer'].values):\n",
        "        sent = re.sub('[^A-Za-z0-9]+', ' ', sentance)\n",
        "        sent = ' '.join(e.lower() for e in sent.split())\n",
        "        preprocessed_Answers.append(sent)\n",
        "        \n",
        "    data['Question'] = preprocessed_Questions\n",
        "    data['Answer'] = preprocessed_Answers\n",
        "    \n",
        "    \n",
        "    Question_keywords = np.load(r'Questin_Answer_10000_keywords/Question_keywords.npy',allow_pickle = True)\n",
        "    Answer_keywords = np.load(r'Questin_Answer_10000_keywords/Answer_keywords.npy',allow_pickle = True)\n",
        "    \n",
        "    que_which_has_ly_keywords = []\n",
        "    for sentance in data['Question']:\n",
        "        sent = ' '.join(e for e in sentance.split() if e in Question_keywords)\n",
        "        que_which_has_ly_keywords.append(sent)\n",
        "    \n",
        "     \n",
        "    ans_which_has_ly_keywords = []\n",
        "    for sentance in data['Answer']:\n",
        "        sent = ' '.join(e for e in sentance.split() if e in Answer_keywords)\n",
        "        ans_which_has_ly_keywords.append(sent)\n",
        "        \n",
        "    data['Question'] = que_which_has_ly_keywords\n",
        "    data['Answer'] = ans_which_has_ly_keywords\n",
        "        \n",
        "    \n",
        "    #Setting numerical value to each word in questions\n",
        "    ecoded_ques = []\n",
        "    for train_ques in data['Question']:\n",
        "        ecoded_ques.append(list(map(lambda x: list(Question_keywords).index(x)+1,train_ques.split(\" \"))))\n",
        "    \n",
        "    ecoded_ans = []\n",
        "    for train_ans in data['Answer']:\n",
        "        ecoded_ans.append(list(map(lambda x: list(Answer_keywords).index(x)+1,train_ans.split(\" \"))))\n",
        "    \n",
        "    data['Question_vector'] = ecoded_ques\n",
        "    data['Answer_vector'] = ecoded_ans\n",
        "    \n",
        "    #truncate and/or pad input sequences\n",
        "    Max_Question_length = 24\n",
        "    ques_vect_1 = sequence.pad_sequences(list(data.Question_vector), maxlen=Max_Question_length)\n",
        "    ques_vect = [np.hstack((x,10001)) for x in ques_vect_1]\n",
        "    \n",
        "    \n",
        "    # truncate and/or pad input sequences\n",
        "    Max_Answer_length = 163\n",
        "    ans_vect = sequence.pad_sequences(data.Answer_vector, maxlen=Max_Answer_length)\n",
        "    \n",
        "    \n",
        "    #load config & weight of best model\n",
        "    with open('Final_model_weight/Best_model/config_9.p', 'rb') as fp:\n",
        "        config = pickle.load(fp)\n",
        "\n",
        "    with open('Final_model_weight/Best_model//Best_weights_9.p', 'rb') as fp:\n",
        "        weights = pickle.load(fp)\n",
        "\n",
        "    \n",
        "    #loading weights to model\n",
        "    import tensorflow as tf\n",
        "    model = tf.keras.Model.from_config(config)\n",
        "    model.set_weights(weights)\n",
        "    \n",
        "    \n",
        "    ques_vect_ds = list(tf.data.Dataset.from_tensor_slices((ques_vect)).batch(1024).as_numpy_iterator())\n",
        "    ans_vect_ds = list(tf.data.Dataset.from_tensor_slices((ans_vect)).batch(1024).as_numpy_iterator())\n",
        "    target_ds = list(tf.data.Dataset.from_tensor_slices((data.Target)).batch(1024).as_numpy_iterator())\n",
        "\n",
        "    loss = tf.keras.metrics.BinaryCrossentropy(name='loss')\n",
        "    loss.reset_states()\n",
        "    predicted_y = []\n",
        "    \n",
        "    def test_step(input_vec, labels):\n",
        "        # training=False is only needed if there are layers with different\n",
        "        # behavior during training versus inference (e.g. Dropout).\n",
        "        predictions = model(input_vec, training=False)\n",
        "        predicted_y.append(predictions.numpy()[:,0])\n",
        "        loss(labels, predictions)\n",
        "\n",
        "    def calculate_loss(ques_vect_ds,ans_vect_ds,target_ds):\n",
        "        for batch in range(len(ques_vect_ds)):\n",
        "            test_ques_vec = ques_vect_ds[batch]\n",
        "            test_ans_vec = ans_vect_ds[batch]\n",
        "            target = target_ds[batch]\n",
        "            test_step([test_ques_vec,test_ans_vec], target)\n",
        "\n",
        "    calculate_loss(ques_vect_ds,ans_vect_ds,target_ds)\n",
        "\n",
        "    #calculate MRR\n",
        "    rr=0\n",
        "    for i in range(0,predicted_y[0].shape[0],10):\n",
        "        rr +=1/(list(np.argsort(np.array(predicted_y[0]).reshape(-1,1)[i:i+10][:,0])[::-1]).index(np.argmax(target_ds[0][i:i+10]))+1)\n",
        "    MRR = rr/(predicted_y[0].shape[0]/10)\n",
        "\n",
        "\n",
        "    return loss.result().numpy(),MRR"
      ],
      "execution_count": 0,
      "outputs": []
    },
    {
      "cell_type": "code",
      "metadata": {
        "id": "lom1t8IDS10Y",
        "colab_type": "code",
        "outputId": "682ef3c6-7918-47a1-d243-85501ea797f8",
        "colab": {
          "base_uri": "https://localhost:8080/",
          "height": 51
        }
      },
      "source": [
        "loss,MRR= final_fun_2(train_df.iloc[:2000,:])\n",
        "print(\"Loss :\" , loss)\n",
        "print(\"MRR : \",MRR)"
      ],
      "execution_count": 10,
      "outputs": [
        {
          "output_type": "stream",
          "text": [
            "Loss : 0.2877097\n",
            "MRR :  0.4420107886904762\n"
          ],
          "name": "stdout"
        }
      ]
    }
  ]
}